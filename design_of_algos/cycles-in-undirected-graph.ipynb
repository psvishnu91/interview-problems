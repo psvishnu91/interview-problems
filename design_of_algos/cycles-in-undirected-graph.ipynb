{
 "cells": [
  {
   "cell_type": "markdown",
   "id": "561f9fd8",
   "metadata": {},
   "source": [
    "### See detailed notes in [vishnu.uk/blogs/algorithms](http://vishnu.uk/blogs/algorithms.html#cycles-in-undirected-graphs)"
   ]
  },
  {
   "cell_type": "code",
   "execution_count": 1,
   "id": "3adfd20e",
   "metadata": {},
   "outputs": [
    {
     "data": {
      "text/html": [
       "<style>.container { width:100% !important; }</style>"
      ],
      "text/plain": [
       "<IPython.core.display.HTML object>"
      ]
     },
     "metadata": {},
     "output_type": "display_data"
    }
   ],
   "source": [
    "from IPython.display import display, HTML\n",
    "display(HTML(\"<style>.container { width:100% !important; }</style>\"))"
   ]
  },
  {
   "cell_type": "code",
   "execution_count": 2,
   "id": "c7e4938b",
   "metadata": {},
   "outputs": [],
   "source": [
    "import networkx as nx\n",
    "import matplotlib.pyplot as plt\n",
    "def draw_graph(graph):\n",
    "    G = nx.Graph(graph)\n",
    "    pos = nx.spring_layout(G)\n",
    "    plt.figure(figsize=(4,2))\n",
    "    nx.draw(G,pos, with_labels=True)"
   ]
  },
  {
   "cell_type": "code",
   "execution_count": 3,
   "id": "039d4e68",
   "metadata": {},
   "outputs": [],
   "source": [
    "from collections.abc import Iterable\n",
    "from dataclasses import dataclass\n",
    "from dataclasses import field\n",
    "from typing import Generator\n",
    "from typing import Hashable\n",
    "\n",
    "@dataclass\n",
    "class DSU:\n",
    "    \"\"\"Disjoint union set implementation.\"\"\"\n",
    "\n",
    "    parent: dict[Hashable, Hashable] = field(default_factory=dict)\n",
    "    rank: dict[Hashable, int] = field(default_factory=dict)\n",
    "\n",
    "    def add_nodes(self, ns: Iterable[Hashable]) -> 'DSU':\n",
    "        for n in ns:\n",
    "            self.add_node(n=n)\n",
    "        return self\n",
    "\n",
    "    def add_node(self, n: Hashable) -> 'DSU':\n",
    "        self.parent[n] = n\n",
    "        self.rank[n] = 1\n",
    "        return self\n",
    "\n",
    "    def find_leader(self, n: Hashable) -> Hashable:\n",
    "        if self.parent[n] == n:\n",
    "            return n\n",
    "        self.parent[n] = self.find_leader(n=self.parent[n])\n",
    "        return self.parent[n]\n",
    "\n",
    "    def union(self, n1: Hashable, n2: Hashable) -> 'DSU':\n",
    "        n1_leader = self.find_leader(n=n1)\n",
    "        n2_leader = self.find_leader(n=n2)\n",
    "        if n1_leader == n2_leader:\n",
    "            return\n",
    "        if self.rank[n1_leader] > self.rank[n2_leader]:\n",
    "            self.parent[n2_leader] = n1_leader\n",
    "        elif self.rank[n1_leader] < self.rank[n2_leader]:\n",
    "            self.parent[n1_leader] = n2_leader\n",
    "        else:\n",
    "            # equal ht trees\n",
    "            self.parent[n2_leader] = n1_leader\n",
    "            self.rank[n1_leader] += 1\n",
    "        return self\n",
    "\n",
    "    def is_connected(self, n1: Hashable, n2: Hashable) -> bool:\n",
    "        return self.find_leader(n=n1) == self.find_leader(n=n2)\n",
    "\n",
    "def has_undirected_cycle(graph: dict[str, set[str]]) -> bool:\n",
    "    \"\"\"Finds cycles in an undirected graph.\n",
    "\n",
    "    :param graph: The keys of the dict are the graph nodes which are strings. The set\n",
    "        of strings they hold are the set of nodes connected to them.\n",
    "    \"\"\"\n",
    "    dsu = DSU()\n",
    "    dsu.add_nodes(ns=graph.keys())\n",
    "    for n1, n2 in _iter_edges(graph):\n",
    "        if dsu.is_connected(n1, n2):\n",
    "            return True\n",
    "        dsu.union(n1, n2)\n",
    "    else:\n",
    "        return False\n",
    "    \n",
    "def _iter_edges(graph: dict[str, set[str]]) -> Generator[tuple, None, None]:\n",
    "    \"\"\"Iterate through edges in a undirected graph. In an undirected graph, two\n",
    "    connected nodes A and B will have each other in their edge set and hence the edge\n",
    "    appears twice, we have to ensure we only yield an edge once.\n",
    "    \"\"\"\n",
    "    seen = set()\n",
    "    for n, adjs in graph.items():\n",
    "        for adj in adjs:\n",
    "            edge = tuple(sorted([n, adj]))\n",
    "            if edge in seen:\n",
    "                continue\n",
    "            seen.add(edge)\n",
    "            yield edge"
   ]
  },
  {
   "cell_type": "code",
   "execution_count": 4,
   "id": "f5950dc9",
   "metadata": {},
   "outputs": [
    {
     "name": "stdout",
     "output_type": "stream",
     "text": [
      "dsu.is_connected('a', 'c')=True, dsu.is_connected('b', 'e')=True, dsu.is_connected('b', 'a')=False\n"
     ]
    }
   ],
   "source": [
    "dsu = DSU()\n",
    "dsu.add_nodes(['a', 'b', 'c', 'd', 'e'])\n",
    "dsu.union('a', 'd').union('b', 'e').union('c', 'd')\n",
    "print(f\"{dsu.is_connected('a', 'c')=}, {dsu.is_connected('b', 'e')=}, {dsu.is_connected('b', 'a')=}\")"
   ]
  },
  {
   "cell_type": "code",
   "execution_count": 5,
   "id": "bc98d430",
   "metadata": {},
   "outputs": [
    {
     "data": {
      "image/png": "[encoded data removed]",
      "text/plain": [
       "<Figure size 288x144 with 1 Axes>"
      ]
     },
     "metadata": {},
     "output_type": "display_data"
    }
   ],
   "source": [
    "graph = {'a': {'c', 'd'}, 'b': {'e'}, 'c': {'a'}, 'd': {'a'}, 'e': {'b'}, 'f': {}}\n",
    "draw_graph(graph)"
   ]
  },
  {
   "cell_type": "code",
   "execution_count": 6,
   "id": "8ddcf08e",
   "metadata": {},
   "outputs": [
    {
     "data": {
      "text/plain": [
       "False"
      ]
     },
     "execution_count": 6,
     "metadata": {},
     "output_type": "execute_result"
    }
   ],
   "source": [
    "has_undirected_cycle(graph)"
   ]
  },
  {
   "cell_type": "code",
   "execution_count": 7,
   "id": "cac1487f",
   "metadata": {},
   "outputs": [
    {
     "data": {
      "image/png": "[encoded data removed]",
      "text/plain": [
       "<Figure size 288x144 with 1 Axes>"
      ]
     },
     "metadata": {},
     "output_type": "display_data"
    }
   ],
   "source": [
    "graph = {'a': {'c', 'd', 'e', 'b'}, 'b': {'e', 'a'}, 'c': {'a'}, 'd': {'a'}, 'e': {'b', 'a'}, 'f': {}}\n",
    "draw_graph(graph)"
   ]
  },
  {
   "cell_type": "code",
   "execution_count": 8,
   "id": "cef3a503",
   "metadata": {},
   "outputs": [
    {
     "data": {
      "text/plain": [
       "True"
      ]
     },
     "execution_count": 8,
     "metadata": {},
     "output_type": "execute_result"
    }
   ],
   "source": [
    "has_undirected_cycle(graph)"
   ]
  }
 ],
 "metadata": {
  "kernelspec": {
   "display_name": "Python 3 (ipykernel)",
   "language": "python",
   "name": "python3"
  },
  "language_info": {
   "codemirror_mode": {
    "name": "ipython",
    "version": 3
   },
   "file_extension": ".py",
   "mimetype": "text/x-python",
   "name": "python",
   "nbconvert_exporter": "python",
   "pygments_lexer": "ipython3",
   "version": "3.10.8"
  }
 },
 "nbformat": 4,
 "nbformat_minor": 5
}
